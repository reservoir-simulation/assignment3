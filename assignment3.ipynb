{
 "cells": [
  {
   "cell_type": "markdown",
   "metadata": {},
   "source": [
    "# Assignment 3\n",
    "\n",
    "The aim of this assigment is to use Python functions, lists, tuples, and dictionaries.\n",
    "\n",
    "---\n",
    "\n",
    "**Complete the following functions**"
   ]
  },
  {
   "cell_type": "markdown",
   "metadata": {},
   "source": [
    "# Problem 1\n",
    "\n",
    "Look up the modified Brooks-Corey models for 2-phase relative permeability (http://petrowiki.org/Relative_permeability_models). Complete the function such that it returns a tuple of water relative permeabilities $k_{rw}$ predicted from the model. The tuple should have 3 elements corresponding to $S_w = (a, b, c)$ where $a$ and $c$ are water saturation endpoints and $b$ is the mean of $a$ and $c$."
   ]
  },
  {
   "cell_type": "code",
   "execution_count": 1,
   "metadata": {
    "collapsed": true
   },
   "outputs": [],
   "source": [
    "def water_rel_perm(krw_o, Sor, Swc, nw):\n",
    "    '''\n",
    "    arguments:\n",
    "        krw_o - end point water relative permeability\n",
    "        Sor   - residual oil saturation\n",
    "        Swr   - critical water saturation\n",
    "        no    - exponent for water relative permeability calculation\n",
    "    returns:\n",
    "        krw   - list of water relative permeabilities\n",
    "    \n",
    "    '''\n",
    "    \n",
    "    return krw"
   ]
  },
  {
   "cell_type": "markdown",
   "metadata": {},
   "source": [
    "# Problem 2\n",
    "\n",
    "Inspect the file [well_activity.csv](well_activity.csv) located in the assignment repository.  This file contains information about several wells in a field --  thier names/identifiers, whether they are injecting/producing/shut-in, and which day since there were brought into service these activities have changed.  \n",
    "\n",
    "The function below, reads in a well activty file and returns the information in the form of a Python list."
   ]
  },
  {
   "cell_type": "code",
   "execution_count": 2,
   "metadata": {
    "collapsed": true
   },
   "outputs": [],
   "source": [
    "def read_well_activity(filename):\n",
    "    '''\n",
    "    This function is complete, do not edit.\n",
    "    \n",
    "    Reads a well activity file.\n",
    "    \n",
    "    argument:\n",
    "        filename   - well activity file\n",
    "    returns:\n",
    "        clean_data - Python list containing well activity information\n",
    "    '''\n",
    "\n",
    "    with open(filename) as f:\n",
    "        raw_data = f.readlines()\n",
    "    \n",
    "    clean_data = [data.replace(\" \", \"\").strip().split(',') for data in raw_data]\n",
    "    \n",
    "    return clean_data"
   ]
  },
  {
   "cell_type": "markdown",
   "metadata": {},
   "source": [
    "Complete the function below such that it adds a new well activity.  It should return a Python list that is sorted in asending order based on the day of the well activity."
   ]
  },
  {
   "cell_type": "code",
   "execution_count": 3,
   "metadata": {
    "collapsed": true
   },
   "outputs": [],
   "source": [
    "def add_well_activity(well_list, new_well_name, activity, days):\n",
    "    '''\n",
    "    Adds a well activity to a Python list.\n",
    "    \n",
    "    arguments:\n",
    "        well_list     - Python list containing well activity information\n",
    "        new_well_name - A Python string with a unique well name/identifier\n",
    "        activity      - A Python string of the well activity, i.e injecting/producing/shut-in\n",
    "        days          - A Python string (or integer) with the day indicating the activity change\n",
    "    returns:\n",
    "        A Python list sorted based on the day of activity change\n",
    "    '''\n",
    "    \n",
    "    return"
   ]
  },
  {
   "cell_type": "markdown",
   "metadata": {},
   "source": [
    "Complete the function below.  It should call the previous two functions, first loading the well activity data from the file into a Python list, then adding an entry to the list.   \n",
    "\n",
    "It is good programming practice to create small functions that can be tested in isolation.  Then combine them to perform more compliated tasks."
   ]
  },
  {
   "cell_type": "code",
   "execution_count": 4,
   "metadata": {
    "collapsed": true
   },
   "outputs": [],
   "source": [
    "def add_well_activity_from_file(filename, new_well_name, activity, days):\n",
    "    '''\n",
    "    Add a well activity to a Python list that is created by reading in a file of activities.\n",
    "    \n",
    "    arguments:\n",
    "        filename      - A Python string containing the name of a well activity file\n",
    "        new_well_name - A Python string with a unique well name/identifier\n",
    "        activity      - A Python string of the well activity, i.e injecting/producing/shut-in\n",
    "        days          - A Python string (or integer) with the day indicating the activity change\n",
    "    returns:\n",
    "        A Python list sorted based on the day of activity change\n",
    "    '''\n",
    "    \n",
    "    return"
   ]
  },
  {
   "cell_type": "markdown",
   "metadata": {},
   "source": [
    "# Problem 3\n",
    "\n",
    "Inspect the file [wells.yml](wells.yml) located in the assignment repository.  This file contains input parameters for a reservoir simulator related to wells.\n",
    "\n",
    "The function below, reads in a well parameter file and returns the information in the form of a Python dictonary."
   ]
  },
  {
   "cell_type": "code",
   "execution_count": 5,
   "metadata": {
    "collapsed": true
   },
   "outputs": [],
   "source": [
    "import yaml\n",
    "\n",
    "def read_well_parameters(filename):\n",
    "    '''\n",
    "    This function is complete, do not edit.\n",
    "    \n",
    "    Reads input parameters related to wells.\n",
    "    \n",
    "    argument:\n",
    "        filename   - well activity file\n",
    "    returns:\n",
    "        parameters - Python dictonary containing well parameters\n",
    "    '''\n",
    "    \n",
    "    with open(filename) as f:\n",
    "        parameters = yaml.load(f)\n",
    "    \n",
    "    return parameters"
   ]
  },
  {
   "cell_type": "markdown",
   "metadata": {},
   "source": [
    "Complete the function below such that it returns the values from all 'bhp' wells when given a Python dictionary of well input parameters."
   ]
  },
  {
   "cell_type": "code",
   "execution_count": 6,
   "metadata": {
    "collapsed": true
   },
   "outputs": [],
   "source": [
    "def get_bhp_well_values(well_parameter_dict):\n",
    "    '''\n",
    "    Gets the bhp well values from a Python dictionary of well inputs.\n",
    "    \n",
    "    argument:\n",
    "        well_parameter_dict - Python dictonary of well inputs. \n",
    "    returns:\n",
    "        BHP well values \n",
    "    '''\n",
    "    return"
   ]
  },
  {
   "cell_type": "markdown",
   "metadata": {},
   "source": [
    "Complete function below, calling the previous two functions such that is reads a parameter input file and returns the 'bhp' well values."
   ]
  },
  {
   "cell_type": "code",
   "execution_count": 7,
   "metadata": {
    "collapsed": true
   },
   "outputs": [],
   "source": [
    "def get_bhp_well_values_from_file(filename):\n",
    "    '''\n",
    "    Gets the bhp well values from an input file.\n",
    "    \n",
    "    argument:\n",
    "        filename - String contraining the name of an input file. \n",
    "    returns:\n",
    "        BHP well values \n",
    "    '''\n",
    "    \n",
    "    return"
   ]
  }
 ],
 "metadata": {
  "kernelspec": {
   "display_name": "Python 3",
   "language": "python",
   "name": "python3"
  },
  "language_info": {
   "codemirror_mode": {
    "name": "ipython",
    "version": 3
   },
   "file_extension": ".py",
   "mimetype": "text/x-python",
   "name": "python",
   "nbconvert_exporter": "python",
   "pygments_lexer": "ipython3",
   "version": "3.6.5"
  }
 },
 "nbformat": 4,
 "nbformat_minor": 2
}
